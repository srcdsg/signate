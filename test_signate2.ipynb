{
  "nbformat": 4,
  "nbformat_minor": 0,
  "metadata": {
    "colab": {
      "name": "test_signate2.ipynb",
      "version": "0.3.2",
      "provenance": [],
      "collapsed_sections": []
    },
    "kernelspec": {
      "name": "python3",
      "display_name": "Python 3"
    },
    "accelerator": "GPU"
  },
  "cells": [
    {
      "metadata": {
        "id": "41jKXkzWBHDN",
        "colab_type": "text"
      },
      "cell_type": "markdown",
      "source": [
        "--- Google Drive 接続用設定 ---"
      ]
    },
    {
      "metadata": {
        "id": "mtbYX0qu7Py4",
        "colab_type": "code",
        "colab": {
          "base_uri": "https://localhost:8080/",
          "height": 34
        },
        "outputId": "ffd789c3-19d7-403c-98fe-82694bf26434"
      },
      "cell_type": "code",
      "source": [
        "from google.colab import drive\n",
        "drive.mount('/content/gdrive')"
      ],
      "execution_count": 7,
      "outputs": [
        {
          "output_type": "stream",
          "text": [
            "Mounted at /content/gdrive\n"
          ],
          "name": "stdout"
        }
      ]
    },
    {
      "metadata": {
        "id": "KtVnJhoDAsNJ",
        "colab_type": "code",
        "colab": {
          "base_uri": "https://localhost:8080/",
          "height": 68
        },
        "outputId": "a8932125-8776-43fa-eefe-d549e4aabd1d"
      },
      "cell_type": "code",
      "source": [
        "!ls gdrive/My\\ Drive"
      ],
      "execution_count": 14,
      "outputs": [
        {
          "output_type": "stream",
          "text": [
            "Colab Notebooks      test_1.zip\t\t  train_0000054.jpg\n",
            "resume_english.docx  test_sig_model.json  train_1.zip\n",
            "submit.tsv\t     test_sig_weights.h5  train_2.zip\n"
          ],
          "name": "stdout"
        }
      ]
    },
    {
      "metadata": {
        "id": "jf1eGnwwBgzt",
        "colab_type": "text"
      },
      "cell_type": "markdown",
      "source": [
        "--- ここまで ---"
      ]
    },
    {
      "metadata": {
        "id": "cxtE-lsUA4Yy",
        "colab_type": "code",
        "colab": {
          "base_uri": "https://localhost:8080/",
          "height": 34
        },
        "outputId": "9d3ff6e9-ecdd-4050-bd93-952dc227318b"
      },
      "cell_type": "code",
      "source": [
        "!unzip -q gdrive/My\\ Drive/train_1.zip\n",
        "#!unzip -q drive/train_2.zip\n",
        "#!unzip -q drive/test_1.zip\n",
        "!ls"
      ],
      "execution_count": 15,
      "outputs": [
        {
          "output_type": "stream",
          "text": [
            "gdrive\tsample_data  train\n"
          ],
          "name": "stdout"
        }
      ]
    },
    {
      "metadata": {
        "id": "Cjqu1rlLt5qM",
        "colab_type": "code",
        "colab": {
          "base_uri": "https://localhost:8080/",
          "height": 51
        },
        "outputId": "1f3594a2-82b2-4994-c7d2-3b4c6246eea0"
      },
      "cell_type": "code",
      "source": [
        "import numpy as np\n",
        "import pandas as pd\n",
        "import matplotlib.pyplot as plt\n",
        "import cv2\n",
        "import glob\n",
        "\n",
        "import keras\n",
        "from keras.models import Sequential\n",
        "from keras.layers import Dense, Dropout, Flatten\n",
        "from keras.layers import Conv2D, MaxPooling2D\n",
        "import tensorflow as tf\n",
        "tf.test.gpu_device_name()"
      ],
      "execution_count": 16,
      "outputs": [
        {
          "output_type": "stream",
          "text": [
            "Using TensorFlow backend.\n"
          ],
          "name": "stderr"
        },
        {
          "output_type": "execute_result",
          "data": {
            "text/plain": [
              "'/device:GPU:0'"
            ]
          },
          "metadata": {
            "tags": []
          },
          "execution_count": 16
        }
      ]
    },
    {
      "metadata": {
        "id": "IAWNDpkYt9ZN",
        "colab_type": "code",
        "colab": {}
      },
      "cell_type": "code",
      "source": [
        "batch_size = 128\n",
        "num_classes = 2\n",
        "epochs = 12\n",
        "\n",
        "# input image dimensions\n",
        "img_rows, img_cols = 64, 64"
      ],
      "execution_count": 0,
      "outputs": []
    },
    {
      "metadata": {
        "id": "UQAQC2J2I0gl",
        "colab_type": "code",
        "colab": {
          "base_uri": "https://localhost:8080/",
          "height": 51
        },
        "outputId": "0135eb55-5a7d-4af3-d1fd-64cd15a22824"
      },
      "cell_type": "code",
      "source": [
        "#-- load train data\n",
        "\n",
        "x = []\n",
        "y = []\n",
        "\n",
        "folder = [\"nonTC/\",\"TC/\"]\n",
        "\n",
        "for idx, name in enumerate(folder):\n",
        "    dpath = \"train/\"+name+\"*.tif\"\n",
        "    files = glob.glob(dpath)\n",
        "    for j, file in enumerate(files):\n",
        "        img = cv2.imread(file,-1)\n",
        "        img = np.asarray(img)\n",
        "        #print(img.shape)\n",
        "        x.append(img)\n",
        "        y.append(idx)\n",
        "\n",
        "x = np.array(x)\n",
        "y = np.array(y)\n",
        "print(x.shape)\n",
        "print(y.shape)"
      ],
      "execution_count": 18,
      "outputs": [
        {
          "output_type": "stream",
          "text": [
            "(148450, 64, 64)\n",
            "(148450,)\n"
          ],
          "name": "stdout"
        }
      ]
    },
    {
      "metadata": {
        "id": "Jz-9CH71A-u4",
        "colab_type": "code",
        "colab": {}
      },
      "cell_type": "code",
      "source": [
        "#-- split train/test data\n",
        "\n",
        "from sklearn.model_selection import train_test_split \n",
        "\n",
        "x_trn, x_tst, y_trn, y_tst = train_test_split(x, y, test_size=0.2, random_state=111)\n",
        "\n",
        "\n",
        "x_trn = x_trn.reshape(x_trn.shape[0], 4096)\n",
        "x_tst = x_tst.reshape(x_tst.shape[0], 4096)\n",
        "y_trn = y_trn.reshape(y_trn.shape[0], 1)\n",
        "y_tst = y_tst.reshape(y_tst.shape[0], 1)"
      ],
      "execution_count": 0,
      "outputs": []
    },
    {
      "metadata": {
        "id": "ialsiq9Yphz8",
        "colab_type": "code",
        "colab": {
          "base_uri": "https://localhost:8080/",
          "height": 153
        },
        "outputId": "318557cd-79be-44cf-cd65-2c29359bdb7a"
      },
      "cell_type": "code",
      "source": [
        "print(y_trn.shape)\n",
        "print(y_trn[:5])\n",
        "print(y_trn.sum(axis=0))\n",
        "print(y_tst.sum(axis=0))"
      ],
      "execution_count": 20,
      "outputs": [
        {
          "output_type": "stream",
          "text": [
            "(118760, 1)\n",
            "[[0]\n",
            " [0]\n",
            " [0]\n",
            " [0]\n",
            " [0]]\n",
            "[3179]\n",
            "[870]\n"
          ],
          "name": "stdout"
        }
      ]
    },
    {
      "metadata": {
        "id": "BmhbLv44VVIF",
        "colab_type": "code",
        "colab": {
          "base_uri": "https://localhost:8080/",
          "height": 68
        },
        "outputId": "6c9458a4-8cac-4113-c829-65cc1da4c372"
      },
      "cell_type": "code",
      "source": [
        "#-- ready data\n",
        "\n",
        "x_trn = x_trn.reshape(x_trn.shape[0], img_rows, img_cols, 1)\n",
        "x_tst = x_tst.reshape(x_tst.shape[0], img_rows, img_cols, 1)\n",
        "input_shape = (img_rows, img_cols, 1)\n",
        "\n",
        "print('x_trn shape:', x_trn.shape)\n",
        "print(x_trn.shape[0], 'train samples')\n",
        "print(x_tst.shape[0], 'test  samples')\n",
        "\n",
        "#-- convert class vectors to binary class matrices\n",
        "y_trn = keras.utils.to_categorical(y_trn, num_classes)\n",
        "y_tst = keras.utils.to_categorical(y_tst, num_classes)\n"
      ],
      "execution_count": 21,
      "outputs": [
        {
          "output_type": "stream",
          "text": [
            "x_trn shape: (118760, 64, 64, 1)\n",
            "118760 train samples\n",
            "29690 test  samples\n"
          ],
          "name": "stdout"
        }
      ]
    },
    {
      "metadata": {
        "id": "e6djb0Mrt_zG",
        "colab_type": "code",
        "colab": {}
      },
      "cell_type": "code",
      "source": [
        "#--- create original model\n",
        "\n",
        "model = Sequential()\n",
        "model.add(Conv2D(64, kernel_size=(3, 3),\n",
        "                 activation='relu',\n",
        "                 input_shape=input_shape))\n",
        "model.add(Conv2D(128, (3, 3), activation='relu'))\n",
        "model.add(MaxPooling2D(pool_size=(2, 2)))\n",
        "model.add(Dropout(0.25))\n",
        "model.add(Flatten())\n",
        "model.add(Dense(256, activation='relu'))\n",
        "model.add(Dropout(0.5))\n",
        "model.add(Dense(num_classes, activation='softmax'))\n"
      ],
      "execution_count": 0,
      "outputs": []
    },
    {
      "metadata": {
        "id": "mw2X5Aqsilw1",
        "colab_type": "code",
        "colab": {
          "base_uri": "https://localhost:8080/",
          "height": 236
        },
        "outputId": "dc5b46c0-77f7-4c21-f4db-594494e7fad5"
      },
      "cell_type": "code",
      "source": [
        "from keras.models import model_from_json\n",
        "#from keras.models import load_model\n",
        "\n",
        "#-- load existing model\n",
        "model = model_from_json(open('gdrive/My Drive/test_sig_model.json').read())\n",
        "\n",
        "#-- load train result\n",
        "model.load_weights('gdrive/My Drive/test_sig_weights.h5')\n",
        "\n",
        "#model = load_model(\"gdrive/My Drive/test_sig_model.h5\")"
      ],
      "execution_count": 23,
      "outputs": [
        {
          "output_type": "error",
          "ename": "FileNotFoundError",
          "evalue": "ignored",
          "traceback": [
            "\u001b[0;31m---------------------------------------------------------------------------\u001b[0m",
            "\u001b[0;31mFileNotFoundError\u001b[0m                         Traceback (most recent call last)",
            "\u001b[0;32m<ipython-input-23-f9b3140bad6d>\u001b[0m in \u001b[0;36m<module>\u001b[0;34m()\u001b[0m\n\u001b[1;32m      3\u001b[0m \u001b[0;34m\u001b[0m\u001b[0m\n\u001b[1;32m      4\u001b[0m \u001b[0;31m#-- load existing model\u001b[0m\u001b[0;34m\u001b[0m\u001b[0;34m\u001b[0m\u001b[0m\n\u001b[0;32m----> 5\u001b[0;31m \u001b[0mmodel\u001b[0m \u001b[0;34m=\u001b[0m \u001b[0mmodel_from_json\u001b[0m\u001b[0;34m(\u001b[0m\u001b[0mopen\u001b[0m\u001b[0;34m(\u001b[0m\u001b[0;34m'gdrive/My\\ Drive/test_sig_model.json'\u001b[0m\u001b[0;34m)\u001b[0m\u001b[0;34m.\u001b[0m\u001b[0mread\u001b[0m\u001b[0;34m(\u001b[0m\u001b[0;34m)\u001b[0m\u001b[0;34m)\u001b[0m\u001b[0;34m\u001b[0m\u001b[0m\n\u001b[0m\u001b[1;32m      6\u001b[0m \u001b[0;34m\u001b[0m\u001b[0m\n\u001b[1;32m      7\u001b[0m \u001b[0;31m#-- load train result\u001b[0m\u001b[0;34m\u001b[0m\u001b[0;34m\u001b[0m\u001b[0m\n",
            "\u001b[0;31mFileNotFoundError\u001b[0m: [Errno 2] No such file or directory: 'gdrive/My\\\\ Drive/test_sig_model.json'"
          ]
        }
      ]
    },
    {
      "metadata": {
        "id": "ZfaONtNZjPAE",
        "colab_type": "code",
        "colab": {}
      },
      "cell_type": "code",
      "source": [
        "#-- compile model\n",
        "model.compile(loss=keras.losses.categorical_crossentropy,\n",
        "              optimizer=keras.optimizers.Adadelta(),\n",
        "              metrics=['accuracy'])\n"
      ],
      "execution_count": 0,
      "outputs": []
    },
    {
      "metadata": {
        "id": "9FhJVyfEnusP",
        "colab_type": "code",
        "colab": {
          "base_uri": "https://localhost:8080/",
          "height": 408
        },
        "outputId": "fe3f8932-6a2d-4db5-b289-6b6d5a945916"
      },
      "cell_type": "code",
      "source": [
        "#-- show structure\n",
        "\n",
        "#from IPython.display import SVG\n",
        "#from keras.utils.vis_utils import model_to_dot\n",
        "\n",
        "#SVG(model_to_dot(model).create(prog='dot', format='svg'))\n",
        "\n",
        "model.summary()"
      ],
      "execution_count": 26,
      "outputs": [
        {
          "output_type": "stream",
          "text": [
            "_________________________________________________________________\n",
            "Layer (type)                 Output Shape              Param #   \n",
            "=================================================================\n",
            "conv2d_3 (Conv2D)            (None, 62, 62, 64)        640       \n",
            "_________________________________________________________________\n",
            "conv2d_4 (Conv2D)            (None, 60, 60, 128)       73856     \n",
            "_________________________________________________________________\n",
            "max_pooling2d_2 (MaxPooling2 (None, 30, 30, 128)       0         \n",
            "_________________________________________________________________\n",
            "dropout_3 (Dropout)          (None, 30, 30, 128)       0         \n",
            "_________________________________________________________________\n",
            "flatten_2 (Flatten)          (None, 115200)            0         \n",
            "_________________________________________________________________\n",
            "dense_3 (Dense)              (None, 256)               29491456  \n",
            "_________________________________________________________________\n",
            "dropout_4 (Dropout)          (None, 256)               0         \n",
            "_________________________________________________________________\n",
            "dense_4 (Dense)              (None, 2)                 514       \n",
            "=================================================================\n",
            "Total params: 29,566,466\n",
            "Trainable params: 29,566,466\n",
            "Non-trainable params: 0\n",
            "_________________________________________________________________\n"
          ],
          "name": "stdout"
        }
      ]
    },
    {
      "metadata": {
        "id": "91RB2MOu9O7R",
        "colab_type": "code",
        "colab": {
          "base_uri": "https://localhost:8080/",
          "height": 476
        },
        "outputId": "85cbf1de-f9ea-4a52-aea1-458c019430b2"
      },
      "cell_type": "code",
      "source": [
        "#-- run train\n",
        "hist = model.fit(\n",
        "          x_trn, y_trn,\n",
        "          batch_size=batch_size,\n",
        "          epochs=epochs,\n",
        "          verbose=1,\n",
        "          validation_data=(x_tst, y_tst))\n",
        "\n",
        "score = model.evaluate(x_tst, y_tst, verbose=0)\n",
        "print('Test loss:', score[0])\n",
        "print('Test accuracy:', score[1])"
      ],
      "execution_count": 27,
      "outputs": [
        {
          "output_type": "stream",
          "text": [
            "Train on 118760 samples, validate on 29690 samples\n",
            "Epoch 1/12\n",
            "118760/118760 [==============================] - 202s 2ms/step - loss: 0.1097 - acc: 0.9731 - val_loss: 0.0939 - val_acc: 0.9707\n",
            "Epoch 2/12\n",
            "118760/118760 [==============================] - 197s 2ms/step - loss: 0.0894 - acc: 0.9737 - val_loss: 0.0899 - val_acc: 0.9708\n",
            "Epoch 3/12\n",
            "118760/118760 [==============================] - 197s 2ms/step - loss: 0.0827 - acc: 0.9750 - val_loss: 0.0925 - val_acc: 0.9731\n",
            "Epoch 4/12\n",
            "118760/118760 [==============================] - 197s 2ms/step - loss: 0.0772 - acc: 0.9765 - val_loss: 0.0819 - val_acc: 0.9751\n",
            "Epoch 5/12\n",
            "118760/118760 [==============================] - 197s 2ms/step - loss: 0.0722 - acc: 0.9780 - val_loss: 0.0912 - val_acc: 0.9747\n",
            "Epoch 6/12\n",
            "118760/118760 [==============================] - 197s 2ms/step - loss: 0.0672 - acc: 0.9792 - val_loss: 0.0812 - val_acc: 0.9757\n",
            "Epoch 7/12\n",
            "118760/118760 [==============================] - 197s 2ms/step - loss: 0.0621 - acc: 0.9807 - val_loss: 0.0780 - val_acc: 0.9772\n",
            "Epoch 8/12\n",
            "118760/118760 [==============================] - 197s 2ms/step - loss: 0.0569 - acc: 0.9816 - val_loss: 0.0796 - val_acc: 0.9761\n",
            "Epoch 9/12\n",
            "118760/118760 [==============================] - 196s 2ms/step - loss: 0.0512 - acc: 0.9832 - val_loss: 0.0786 - val_acc: 0.9763\n",
            "Epoch 10/12\n",
            "118760/118760 [==============================] - 197s 2ms/step - loss: 0.0440 - acc: 0.9850 - val_loss: 0.0960 - val_acc: 0.9775\n",
            "Epoch 11/12\n",
            "118760/118760 [==============================] - 196s 2ms/step - loss: 0.0379 - acc: 0.9870 - val_loss: 0.0840 - val_acc: 0.9753\n",
            "Epoch 12/12\n",
            "118760/118760 [==============================] - 196s 2ms/step - loss: 0.0310 - acc: 0.9894 - val_loss: 0.0937 - val_acc: 0.9766\n",
            "Test loss: 0.0936682094066379\n",
            "Test accuracy: 0.9765577635326623\n"
          ],
          "name": "stdout"
        }
      ]
    },
    {
      "metadata": {
        "id": "KbdDF9Av9XA4",
        "colab_type": "code",
        "colab": {
          "base_uri": "https://localhost:8080/",
          "height": 376
        },
        "outputId": "50f51398-f683-43c9-9a58-567b91eeb2e5"
      },
      "cell_type": "code",
      "source": [
        "plt.plot(hist.history['acc'], label='acc')\n",
        "plt.plot(hist.history['val_acc'], label='val_acc')\n",
        "plt.title('model accuracy')\n",
        "plt.xlabel('epoch')\n",
        "plt.ylabel('accuracy')\n",
        "plt.legend(['train','test'],loc='upper left')\n",
        "plt.ylim([0.9,1.0])\n",
        "plt.show()"
      ],
      "execution_count": 28,
      "outputs": [
        {
          "output_type": "display_data",
          "data": {
            "image/png": "[encoded data removed]",
            "text/plain": [
              "<matplotlib.figure.Figure at 0x7f47ed7f99b0>"
            ]
          },
          "metadata": {
            "tags": []
          }
        }
      ]
    },
    {
      "metadata": {
        "id": "yUmA-fFaV1LV",
        "colab_type": "code",
        "colab": {
          "base_uri": "https://localhost:8080/",
          "height": 136
        },
        "outputId": "9ce6651f-649b-4482-c382-8c44be0899c5"
      },
      "cell_type": "code",
      "source": [
        "from sklearn.metrics import classification_report\n",
        "#from sklearn.metrics import precision_recall_fscore_support\n",
        "\n",
        "y_evl = model.predict(x_tst, batch_size=batch_size)\n",
        "y_evl2 = np.argmax(y_evl,axis=1)\n",
        "y_tst2 = np.argmax(y_tst,axis=1)\n",
        "print(classification_report(y_tst2, y_evl2))"
      ],
      "execution_count": 29,
      "outputs": [
        {
          "output_type": "stream",
          "text": [
            "             precision    recall  f1-score   support\n",
            "\n",
            "          0       0.98      0.99      0.99     28820\n",
            "          1       0.66      0.41      0.51       870\n",
            "\n",
            "avg / total       0.97      0.98      0.97     29690\n",
            "\n"
          ],
          "name": "stdout"
        }
      ]
    },
    {
      "metadata": {
        "id": "-exkrRB5JFoe",
        "colab_type": "code",
        "colab": {}
      },
      "cell_type": "code",
      "source": [
        "#--- save model weight\n",
        "json_string = model.to_json()\n",
        "open('gdrive/My Drive/test_sig_model.json', 'w').write(json_string)\n",
        "model.save_weights('gdrive/My Drive/test_sig_weights.h5')\n",
        "\n",
        "#model.save('drive/test_sig_model.h5')"
      ],
      "execution_count": 0,
      "outputs": []
    },
    {
      "metadata": {
        "id": "Pkv3NjJ22Ty1",
        "colab_type": "text"
      },
      "cell_type": "markdown",
      "source": [
        "--- 提出用 ---"
      ]
    },
    {
      "metadata": {
        "id": "O7lOxnAbc0Vk",
        "colab_type": "code",
        "colab": {}
      },
      "cell_type": "code",
      "source": [
        "#-- submit用 --\n",
        "import os\n",
        "\n",
        "x_s = []\n",
        "f_s = []\n",
        "\n",
        "dpath = \"test/*.tif\"\n",
        "files = glob.glob(dpath)\n",
        "\n",
        "for i, file in enumerate(files):\n",
        "  img = cv2.imread(file,-1)\n",
        "  img = np.asarray(img)\n",
        "  fnm = os.path.basename(file)  \n",
        "  x_s.append(img)\n",
        "  f_s.append(fnm)\n",
        "  "
      ],
      "execution_count": 0,
      "outputs": []
    },
    {
      "metadata": {
        "id": "F9PovkH-d0e7",
        "colab_type": "code",
        "colab": {
          "base_uri": "https://localhost:8080/",
          "height": 34
        },
        "outputId": "ec145466-45d0-4e6c-c218-7621171d1d68"
      },
      "cell_type": "code",
      "source": [
        "x_s = np.asarray(x_s)\n",
        "\n",
        "print(x_s.shape)\n",
        "x_s = x_s.reshape(x_s.shape[0], img_rows, img_cols, 1)"
      ],
      "execution_count": 13,
      "outputs": [
        {
          "output_type": "stream",
          "text": [
            "(148563, 64, 64)\n"
          ],
          "name": "stdout"
        }
      ]
    },
    {
      "metadata": {
        "id": "jMvbFLfq2qzc",
        "colab_type": "code",
        "colab": {}
      },
      "cell_type": "code",
      "source": [
        "#-- predict\n",
        "y_s = model.predict(x_s, batch_size=batch_size)\n",
        "\n",
        "y_s2 = np.argmax(y_s,axis=1)"
      ],
      "execution_count": 0,
      "outputs": []
    },
    {
      "metadata": {
        "id": "MLms02nLkpX7",
        "colab_type": "code",
        "colab": {
          "base_uri": "https://localhost:8080/",
          "height": 204
        },
        "outputId": "a59699da-a856-4d52-9f0b-1f8156216a58"
      },
      "cell_type": "code",
      "source": [
        "#-- save submit data\n",
        "df_y = pd.Series(y_s2)\n",
        "df_f = pd.Series(f_s)\n",
        "\n",
        "df_o = pd.concat([df_f, df_y],axis=1)\n",
        "df_o.head()\n",
        "\n",
        "df_o.to_csv(\"gdrive/My\\ Drive/submit.tsv\", sep='\\t', index=False, header=False)\n"
      ],
      "execution_count": 42,
      "outputs": [
        {
          "output_type": "execute_result",
          "data": {
            "text/html": [
              "<div>\n",
              "<style scoped>\n",
              "    .dataframe tbody tr th:only-of-type {\n",
              "        vertical-align: middle;\n",
              "    }\n",
              "\n",
              "    .dataframe tbody tr th {\n",
              "        vertical-align: top;\n",
              "    }\n",
              "\n",
              "    .dataframe thead th {\n",
              "        text-align: right;\n",
              "    }\n",
              "</style>\n",
              "<table border=\"1\" class=\"dataframe\">\n",
              "  <thead>\n",
              "    <tr style=\"text-align: right;\">\n",
              "      <th></th>\n",
              "      <th>0</th>\n",
              "      <th>1</th>\n",
              "    </tr>\n",
              "  </thead>\n",
              "  <tbody>\n",
              "    <tr>\n",
              "      <th>0</th>\n",
              "      <td>test_145015.tif</td>\n",
              "      <td>0</td>\n",
              "    </tr>\n",
              "    <tr>\n",
              "      <th>1</th>\n",
              "      <td>test_212861.tif</td>\n",
              "      <td>0</td>\n",
              "    </tr>\n",
              "    <tr>\n",
              "      <th>2</th>\n",
              "      <td>test_096873.tif</td>\n",
              "      <td>0</td>\n",
              "    </tr>\n",
              "    <tr>\n",
              "      <th>3</th>\n",
              "      <td>test_250471.tif</td>\n",
              "      <td>0</td>\n",
              "    </tr>\n",
              "    <tr>\n",
              "      <th>4</th>\n",
              "      <td>test_164362.tif</td>\n",
              "      <td>0</td>\n",
              "    </tr>\n",
              "  </tbody>\n",
              "</table>\n",
              "</div>"
            ],
            "text/plain": [
              "                 0  1\n",
              "0  test_145015.tif  0\n",
              "1  test_212861.tif  0\n",
              "2  test_096873.tif  0\n",
              "3  test_250471.tif  0\n",
              "4  test_164362.tif  0"
            ]
          },
          "metadata": {
            "tags": []
          },
          "execution_count": 42
        }
      ]
    },
    {
      "metadata": {
        "id": "ku5ce_a45ACr",
        "colab_type": "code",
        "colab": {}
      },
      "cell_type": "code",
      "source": [
        ""
      ],
      "execution_count": 0,
      "outputs": []
    }
  ]
}